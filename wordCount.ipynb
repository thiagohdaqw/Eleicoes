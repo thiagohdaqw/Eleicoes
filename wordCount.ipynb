{
 "cells": [
  {
   "cell_type": "code",
   "execution_count": 1,
   "id": "4987b1fb",
   "metadata": {},
   "outputs": [
    {
     "data": {
      "text/plain": [
       "True"
      ]
     },
     "execution_count": 1,
     "metadata": {},
     "output_type": "execute_result"
    }
   ],
   "source": [
    "from pyspark import SparkConf, SparkContext\n",
    "from pyspark.sql import SparkSession\n",
    "from pyspark.sql.types import StringType\n",
    "from pyspark.sql.functions import length, explode, split, substring, upper, window, format_string, col, lit, udf\n",
    "from dotenv import load_dotenv\n",
    "import os\n",
    "load_dotenv()"
   ]
  },
  {
   "cell_type": "code",
   "execution_count": 2,
   "id": "473085c0-1297-47c1-a9cd-5d2865070485",
   "metadata": {},
   "outputs": [],
   "source": [
    "INTERVAL = os.getenv(\"INTERVAL\", \"10 seconds\")\n",
    "SPARK_MASTER = os.getenv(\"SPARK_MASTER\", \"spark://gpu3.esw:7077\")\n",
    "KAFKA_SERVER = os.getenv(\"KAFKA_SERVER\", 'localhost:9092')\n",
    "\n",
    "SPARK_APP_NAME = \"Final - PSPD\"\n",
    "\n",
    "WORDS_TOPIC = os.getenv(\"WORDS_TOPIC\", 'wc')\n",
    "STATS_TOPIC = os.getenv(\"STATS_TOPIC\", 'test-elasticsearch-sink')\n",
    "\n",
    "SPARK_CORES_MAX = os.getenv(\"SPARK_CORES_MAX\", \"2\")"
   ]
  },
  {
   "cell_type": "code",
   "execution_count": 3,
   "id": "f0550fa9-43ff-4ded-abba-da8a6f9ae938",
   "metadata": {},
   "outputs": [
    {
     "name": "stdout",
     "output_type": "stream",
     "text": [
      ":: loading settings :: url = jar:file:/home/thiago/.local/lib/python3.10/site-packages/pyspark/jars/ivy-2.5.0.jar!/org/apache/ivy/core/settings/ivysettings.xml\n"
     ]
    },
    {
     "name": "stderr",
     "output_type": "stream",
     "text": [
      "Ivy Default Cache set to: /home/thiago/.ivy2/cache\n",
      "The jars for the packages stored in: /home/thiago/.ivy2/jars\n",
      "org.apache.spark#spark-sql-kafka-0-10_2.12 added as a dependency\n",
      ":: resolving dependencies :: org.apache.spark#spark-submit-parent-3cee7a7c-2b3c-43df-99b4-9223a0d6b2cb;1.0\n",
      "\tconfs: [default]\n",
      "\tfound org.apache.spark#spark-sql-kafka-0-10_2.12;3.2.0 in central\n",
      "\tfound org.apache.spark#spark-token-provider-kafka-0-10_2.12;3.2.0 in central\n",
      "\tfound org.apache.kafka#kafka-clients;2.8.0 in central\n",
      "\tfound org.lz4#lz4-java;1.7.1 in central\n",
      "\tfound org.xerial.snappy#snappy-java;1.1.8.4 in central\n",
      "\tfound org.slf4j#slf4j-api;1.7.30 in central\n",
      "\tfound org.apache.hadoop#hadoop-client-runtime;3.3.1 in central\n",
      "\tfound org.spark-project.spark#unused;1.0.0 in central\n",
      "\tfound org.apache.hadoop#hadoop-client-api;3.3.1 in central\n",
      "\tfound org.apache.htrace#htrace-core4;4.1.0-incubating in central\n",
      "\tfound commons-logging#commons-logging;1.1.3 in central\n",
      "\tfound com.google.code.findbugs#jsr305;3.0.0 in central\n",
      "\tfound org.apache.commons#commons-pool2;2.6.2 in central\n",
      ":: resolution report :: resolve 831ms :: artifacts dl 23ms\n",
      "\t:: modules in use:\n",
      "\tcom.google.code.findbugs#jsr305;3.0.0 from central in [default]\n",
      "\tcommons-logging#commons-logging;1.1.3 from central in [default]\n",
      "\torg.apache.commons#commons-pool2;2.6.2 from central in [default]\n",
      "\torg.apache.hadoop#hadoop-client-api;3.3.1 from central in [default]\n",
      "\torg.apache.hadoop#hadoop-client-runtime;3.3.1 from central in [default]\n",
      "\torg.apache.htrace#htrace-core4;4.1.0-incubating from central in [default]\n",
      "\torg.apache.kafka#kafka-clients;2.8.0 from central in [default]\n",
      "\torg.apache.spark#spark-sql-kafka-0-10_2.12;3.2.0 from central in [default]\n",
      "\torg.apache.spark#spark-token-provider-kafka-0-10_2.12;3.2.0 from central in [default]\n",
      "\torg.lz4#lz4-java;1.7.1 from central in [default]\n",
      "\torg.slf4j#slf4j-api;1.7.30 from central in [default]\n",
      "\torg.spark-project.spark#unused;1.0.0 from central in [default]\n",
      "\torg.xerial.snappy#snappy-java;1.1.8.4 from central in [default]\n",
      "\t---------------------------------------------------------------------\n",
      "\t|                  |            modules            ||   artifacts   |\n",
      "\t|       conf       | number| search|dwnlded|evicted|| number|dwnlded|\n",
      "\t---------------------------------------------------------------------\n",
      "\t|      default     |   13  |   0   |   0   |   0   ||   13  |   0   |\n",
      "\t---------------------------------------------------------------------\n",
      ":: retrieving :: org.apache.spark#spark-submit-parent-3cee7a7c-2b3c-43df-99b4-9223a0d6b2cb\n",
      "\tconfs: [default]\n",
      "\t0 artifacts copied, 13 already retrieved (0kB/12ms)\n"
     ]
    },
    {
     "name": "stdout",
     "output_type": "stream",
     "text": [
      "22/09/18 22:44:49 WARN NativeCodeLoader: Unable to load native-hadoop library for your platform... using builtin-java classes where applicable\n"
     ]
    },
    {
     "name": "stderr",
     "output_type": "stream",
     "text": [
      "Setting default log level to \"WARN\".\n",
      "To adjust logging level use sc.setLogLevel(newLevel). For SparkR, use setLogLevel(newLevel).\n"
     ]
    },
    {
     "name": "stdout",
     "output_type": "stream",
     "text": [
      "22/09/18 22:44:51 WARN Utils: Service 'SparkUI' could not bind on port 4040. Attempting port 4041.\n"
     ]
    }
   ],
   "source": [
    "conf = SparkConf() \\\n",
    "    .setMaster(SPARK_MASTER) \\\n",
    "    .setAppName(SPARK_APP_NAME) \\\n",
    "    .set(\"spark.jars.packages\", \"org.apache.spark:spark-sql-kafka-0-10_2.12:3.2.0\") \\\n",
    "    .set(\"spark.cores.max\", \"2\")\n",
    "    \n",
    "context = SparkContext(conf=conf)\n",
    "context.setLogLevel(\"ERROR\")"
   ]
  },
  {
   "cell_type": "code",
   "execution_count": 4,
   "id": "8b2334b0",
   "metadata": {},
   "outputs": [],
   "source": [
    "spark = SparkSession.builder.getOrCreate()"
   ]
  },
  {
   "cell_type": "code",
   "execution_count": 5,
   "id": "2f9f9853-aecf-449d-a03e-e4a64629801d",
   "metadata": {},
   "outputs": [],
   "source": [
    "lines = spark \\\n",
    "    .readStream \\\n",
    "    .format(\"kafka\") \\\n",
    "    .option(\"kafka.bootstrap.servers\", KAFKA_SERVER) \\\n",
    "    .option(\"subscribe\", WORDS_TOPIC) \\\n",
    "    .option('includeTimestamp', 'true') \\\n",
    "    .load()"
   ]
  },
  {
   "cell_type": "code",
   "execution_count": 6,
   "id": "2023c787",
   "metadata": {},
   "outputs": [],
   "source": [
    "## Cleaner\n",
    "import re\n",
    "\n",
    "CLEAN_REGEX = r\"[.,/\\\\\\[\\]\\{\\}`~^&!@#\\$%*\\)\\(\\'\\\"<>=+-:;?“]\"\n",
    "\n",
    "def cleaner(sentence):\n",
    "    return re.sub(CLEAN_REGEX, '', sentence)\n",
    "\n",
    "cleaner_col = udf(lambda s: cleaner(s), StringType())"
   ]
  },
  {
   "cell_type": "code",
   "execution_count": 7,
   "id": "4ad73dc8-8e4a-4f08-98e0-3a0dcb5dbc9a",
   "metadata": {},
   "outputs": [],
   "source": [
    "# Split the lines into words\n",
    "words = lines \\\n",
    "        .select(\n",
    "            explode(split(col(\"value\"), \"\\s+\")).alias(\"word\"),\n",
    "            lines.timestamp\n",
    "        ).select(\n",
    "            upper(cleaner_col(col(\"word\"))).alias('word'), \n",
    "            col(\"timestamp\")\n",
    "        )"
   ]
  },
  {
   "cell_type": "code",
   "execution_count": 8,
   "id": "379f9eec",
   "metadata": {},
   "outputs": [],
   "source": [
    "wordCounts = words.withWatermark(\"timestamp\", INTERVAL) \\\n",
    "                .groupBy(\n",
    "                    window(words.timestamp, INTERVAL, INTERVAL),\n",
    "                    \"timestamp\",\n",
    "                    \"word\"\n",
    "                ) \\\n",
    "                .count() \\\n",
    "                .select(\n",
    "                    lit('1').alias(\"key\"),\n",
    "                    format_string(\"{\\\"word\\\": \\\"%s\\\", \\\"count\\\": %d, \\\"timestamp\\\": %d}\", col(\"word\"), col(\"count\"), col(\"timestamp\")).alias(\"value\")\n",
    "                )"
   ]
  },
  {
   "cell_type": "markdown",
   "id": "d6b1bf37-3475-4cca-b28a-d825061824bf",
   "metadata": {
    "tags": []
   },
   "source": [
    "# Sinks"
   ]
  },
  {
   "cell_type": "code",
   "execution_count": 9,
   "id": "73d99f9d",
   "metadata": {
    "scrolled": true
   },
   "outputs": [],
   "source": [
    "qWc = wordCounts \\\n",
    "    .writeStream \\\n",
    "    .outputMode(\"update\") \\\n",
    "    .format(\"kafka\") \\\n",
    "    .option(\"kafka.bootstrap.servers\", KAFKA_SERVER) \\\n",
    "    .option('topic', STATS_TOPIC) \\\n",
    "    .option('checkpointLocation', '/tmp/spark/wc-stats') \\\n",
    "    .trigger(processingTime=INTERVAL) \\\n",
    "    .start()"
   ]
  },
  {
   "cell_type": "markdown",
   "id": "e31cddb5",
   "metadata": {
    "tags": []
   },
   "source": [
    "# Stats"
   ]
  },
  {
   "cell_type": "code",
   "execution_count": 10,
   "id": "390710ce",
   "metadata": {},
   "outputs": [],
   "source": [
    "# Count the words that has length 6, 8 and 11\n",
    "lengths = words \\\n",
    "    .filter(length(words.word).isin([6, 8, 11])) \\\n",
    "    .withWatermark(\"timestamp\", INTERVAL) \\\n",
    "    .groupBy(\n",
    "        window(words.timestamp, INTERVAL, INTERVAL),\n",
    "        \"timestamp\",\n",
    "        length(words.word).alias(\"length\")\n",
    "    ) \\\n",
    "    .count() \\\n",
    "    .select(\n",
    "        lit('1').alias(\"key\"),\n",
    "        format_string(\"{\\\"stat\\\": \\\"%s\\\", \\\"count\\\": %d, \\\"timestamp\\\": %d}\", col(\"length\"), col(\"count\"), col(\"timestamp\")).alias(\"value\")\n",
    "    )"
   ]
  },
  {
   "cell_type": "code",
   "execution_count": 11,
   "id": "e3d91daf",
   "metadata": {},
   "outputs": [],
   "source": [
    "qLen = lengths \\\n",
    "    .writeStream \\\n",
    "    .outputMode(\"update\") \\\n",
    "    .format(\"kafka\") \\\n",
    "    .option(\"kafka.bootstrap.servers\", KAFKA_SERVER) \\\n",
    "    .option('topic', STATS_TOPIC) \\\n",
    "    .option('checkpointLocation', '/tmp/spark/len-stats') \\\n",
    "    .trigger(processingTime=INTERVAL) \\\n",
    "    .start()"
   ]
  },
  {
   "cell_type": "code",
   "execution_count": 12,
   "id": "8d853cb6-671a-4846-80b1-31708f14f242",
   "metadata": {},
   "outputs": [],
   "source": [
    "# Count the words that startswith S, P and R\n",
    "letters = words \\\n",
    "    .filter(upper(substring(words.word, 0, 1)).isin([\"S\", \"P\", \"R\"])) \\\n",
    "    .withWatermark(\"timestamp\", INTERVAL) \\\n",
    "    .groupBy(\n",
    "        window(words.timestamp, INTERVAL, INTERVAL),\n",
    "        \"timestamp\",\n",
    "        upper(substring(words.word, 0, 1)).alias(\"stat\"),\n",
    "    ) \\\n",
    "    .count() \\\n",
    "    .select(\n",
    "            lit('1').alias(\"key\"),\n",
    "            format_string(\"{\\\"stat\\\": \\\"%s\\\", \\\"count\\\": %d, \\\"timestamp\\\": %d}\", col(\"stat\"), col(\"count\"), col(\"timestamp\")).alias(\"value\")\n",
    "        )"
   ]
  },
  {
   "cell_type": "code",
   "execution_count": 13,
   "id": "e7fa798e",
   "metadata": {},
   "outputs": [],
   "source": [
    "qLet = letters \\\n",
    "    .writeStream \\\n",
    "    .outputMode(\"update\") \\\n",
    "    .format(\"kafka\") \\\n",
    "    .option(\"kafka.bootstrap.servers\", KAFKA_SERVER) \\\n",
    "    .option('topic', STATS_TOPIC) \\\n",
    "    .option('checkpointLocation', '/tmp/spark/let-stats') \\\n",
    "    .trigger(processingTime=INTERVAL) \\\n",
    "    .start()"
   ]
  },
  {
   "cell_type": "code",
   "execution_count": 14,
   "id": "c0e22eb8-d4ba-4ff4-836c-c0410ab6b940",
   "metadata": {},
   "outputs": [],
   "source": [
    "# Count the total of words readed\n",
    "total = words \\\n",
    "    .groupBy() \\\n",
    "    .count() \\\n",
    "    .select(\n",
    "            lit('1').alias(\"key\"),\n",
    "            format_string(\"{\\\"stat\\\": \\\"total\\\", \\\"count\\\": %d}\", col(\"count\")).alias(\"value\")\n",
    "        )"
   ]
  },
  {
   "cell_type": "code",
   "execution_count": 15,
   "id": "d0e839bd-8f9a-4604-a55c-86580667d079",
   "metadata": {},
   "outputs": [
    {
     "name": "stderr",
     "output_type": "stream",
     "text": [
      "[Stage 30:====================================>                 (136 + 2) / 200]\r"
     ]
    }
   ],
   "source": [
    "qT = total \\\n",
    "    .writeStream \\\n",
    "    .outputMode(\"complete\") \\\n",
    "    .format(\"kafka\") \\\n",
    "    .option(\"kafka.bootstrap.servers\", KAFKA_SERVER) \\\n",
    "    .option('topic', STATS_TOPIC) \\\n",
    "    .option('checkpointLocation', '/tmp/spark/total-stats') \\\n",
    "    .start()"
   ]
  },
  {
   "cell_type": "code",
   "execution_count": 16,
   "id": "906f3d37-3a23-4ca2-a388-936511a978cf",
   "metadata": {},
   "outputs": [
    {
     "name": "stdout",
     "output_type": "stream",
     "text": [
      "22/09/18 22:48:19 ERROR WriteToDataSourceV2Exec: Data source write support org.apache.spark.sql.execution.streaming.sources.MicroBatchWrite@6189b2e1 is aborting.\n",
      "22/09/18 22:48:19 ERROR WriteToDataSourceV2Exec: Data source write support org.apache.spark.sql.execution.streaming.sources.MicroBatchWrite@6189b2e1 aborted.\n"
     ]
    }
   ],
   "source": [
    "qWc.stop()\n",
    "qT.stop()\n",
    "qLen.stop()\n",
    "qLet.stop()"
   ]
  },
  {
   "cell_type": "code",
   "execution_count": 17,
   "id": "6699c086",
   "metadata": {},
   "outputs": [],
   "source": [
    "spark.stop()\n",
    "context.stop()"
   ]
  },
  {
   "cell_type": "code",
   "execution_count": null,
   "id": "a780adb3-7943-4e86-92c9-4a1c699c073d",
   "metadata": {},
   "outputs": [],
   "source": []
  }
 ],
 "metadata": {
  "kernelspec": {
   "display_name": "Python 3 (ipykernel)",
   "language": "python",
   "name": "python3"
  },
  "language_info": {
   "codemirror_mode": {
    "name": "ipython",
    "version": 3
   },
   "file_extension": ".py",
   "mimetype": "text/x-python",
   "name": "python",
   "nbconvert_exporter": "python",
   "pygments_lexer": "ipython3",
   "version": "3.10.7"
  },
  "vscode": {
   "interpreter": {
    "hash": "702598411862fe1bbd85eb3cc3899f20a5eda6c2ce7727b978ba90cfca5f7799"
   }
  }
 },
 "nbformat": 4,
 "nbformat_minor": 5
}
