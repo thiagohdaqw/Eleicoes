{
 "cells": [
  {
   "cell_type": "code",
   "execution_count": 1,
   "id": "d1d44d4c-aea3-45b2-80df-036345822d56",
   "metadata": {},
   "outputs": [
    {
     "data": {
      "text/plain": [
       "True"
      ]
     },
     "execution_count": 1,
     "metadata": {},
     "output_type": "execute_result"
    }
   ],
   "source": [
    "from pyspark import SparkConf, SparkContext\n",
    "from pyspark.ml import Pipeline\n",
    "from pyspark.ml.classification import LogisticRegression\n",
    "from pyspark.ml.tuning import ParamGridBuilder, CrossValidator\n",
    "from pyspark.ml.evaluation import RegressionEvaluator\n",
    "from pyspark.ml.feature import HashingTF, Tokenizer\n",
    "from pyspark.sql import SparkSession\n",
    "from datetime import datetime\n",
    "from dotenv import load_dotenv\n",
    "import os\n",
    "load_dotenv()"
   ]
  },
  {
   "cell_type": "markdown",
   "id": "56cc0bd3-6ef0-448c-b8ec-32d4637637e9",
   "metadata": {},
   "source": [
    "## Constants"
   ]
  },
  {
   "cell_type": "code",
   "execution_count": 4,
   "id": "bf3b71c9-a0d3-4a3b-ac8b-27326a78b64a",
   "metadata": {},
   "outputs": [],
   "source": [
    "TRAINING_FILE = os.getenv(\"TRAINING_FILE\",\"dataset/dataset.csv\")\n",
    "MODEL_PATH = os.getenv(\"MODEL_PATH\", \"model/\")\n",
    "SPARK_MASTER = os.getenv(\"SPARK_MASTER\", \"spark://gpu3.esw:7077\")\n",
    "SPARK_APP_NAME = \"Final - PSPD - Train\""
   ]
  },
  {
   "cell_type": "markdown",
   "id": "8451eed2-b8ea-4558-9216-abb7035d7559",
   "metadata": {},
   "source": [
    "## Startup"
   ]
  },
  {
   "cell_type": "code",
   "execution_count": 6,
   "id": "b93a72a8-02d4-4265-8ed9-a54b096d558e",
   "metadata": {},
   "outputs": [
    {
     "name": "stdout",
     "output_type": "stream",
     "text": [
      "22/09/18 17:52:52 WARN Utils: Your hostname, notebook resolves to a loopback address: 127.0.0.1; using 192.168.43.185 instead (on interface wlp2s0)\n",
      "22/09/18 17:52:52 WARN Utils: Set SPARK_LOCAL_IP if you need to bind to another address\n"
     ]
    },
    {
     "name": "stderr",
     "output_type": "stream",
     "text": [
      "Setting default log level to \"WARN\".\n",
      "To adjust logging level use sc.setLogLevel(newLevel). For SparkR, use setLogLevel(newLevel).\n"
     ]
    },
    {
     "name": "stdout",
     "output_type": "stream",
     "text": [
      "22/09/18 17:52:53 WARN NativeCodeLoader: Unable to load native-hadoop library for your platform... using builtin-java classes where applicable\n"
     ]
    }
   ],
   "source": [
    "conf = SparkConf() \\\n",
    "    .setMaster(SPARK_MASTER) \\\n",
    "    .setAppName(SPARK_APP_NAME)\n",
    "\n",
    "context = SparkContext(conf=conf)"
   ]
  },
  {
   "cell_type": "code",
   "execution_count": 7,
   "id": "2680644e-d246-47b9-8972-2e02e2d46806",
   "metadata": {},
   "outputs": [],
   "source": [
    "spark = SparkSession.builder.getOrCreate()"
   ]
  },
  {
   "cell_type": "markdown",
   "id": "4cc862f0-896c-4343-8209-8e42a9151170",
   "metadata": {},
   "source": [
    "## Ingest Dataset"
   ]
  },
  {
   "cell_type": "code",
   "execution_count": 8,
   "id": "e00f7fee-29b3-4963-ac3d-a331e6bcf4ba",
   "metadata": {},
   "outputs": [
    {
     "name": "stderr",
     "output_type": "stream",
     "text": [
      "                                                                                \r"
     ]
    }
   ],
   "source": [
    "training = spark \\\n",
    "    .read \\\n",
    "    .format(\"csv\") \\\n",
    "    .option(\"sep\", \",\") \\\n",
    "    .option(\"header\", \"true\") \\\n",
    "    .load(TRAINING_FILE) \\\n",
    "    .selectExpr(\"sentence\", \"CAST(sentiment AS FLOAT) AS label\")"
   ]
  },
  {
   "cell_type": "code",
   "execution_count": 9,
   "id": "c35fc621-ca63-43c2-babb-e213ce3010fa",
   "metadata": {},
   "outputs": [
    {
     "data": {
      "text/plain": [
       "DataFrame[sentence: string, label: float]"
      ]
     },
     "execution_count": 9,
     "metadata": {},
     "output_type": "execute_result"
    }
   ],
   "source": [
    "training"
   ]
  },
  {
   "cell_type": "markdown",
   "id": "239ace1d-bf9c-4294-9cd8-69217cd9faff",
   "metadata": {},
   "source": [
    "## Model Architecture"
   ]
  },
  {
   "cell_type": "code",
   "execution_count": 10,
   "id": "3a0b6a89-c47a-4942-a5f6-3fdcd3b46721",
   "metadata": {},
   "outputs": [],
   "source": [
    "tokenizer = Tokenizer(inputCol=\"sentence\", outputCol=\"words\")\n",
    "hashingTF = HashingTF(inputCol=tokenizer.getOutputCol(), outputCol=\"features\")\n",
    "lr = LogisticRegression()\n",
    "lrparamGrid = (ParamGridBuilder()\n",
    "             .addGrid(lr.regParam, [0.001, 0.01, 0.1, 0.5, 1.0, 2.0])\n",
    "             .addGrid(lr.elasticNetParam, [0.0, 0.25, 0.5, 0.75, 1.0])\n",
    "             .addGrid(lr.maxIter, [1, 5, 10, 20, 50, 100])\n",
    "             .build())\n",
    "lrevaluator = RegressionEvaluator(metricName=\"rmse\")\n",
    "lrcv = CrossValidator(estimator = lr,\n",
    "                    estimatorParamMaps = lrparamGrid,\n",
    "                    evaluator = lrevaluator,\n",
    "                    numFolds = 5)\n",
    "pipeline = Pipeline(stages=[tokenizer, hashingTF, lrcv])"
   ]
  },
  {
   "cell_type": "markdown",
   "id": "906bef28-05cf-4995-a1bf-00f8076a7cc9",
   "metadata": {},
   "source": [
    "## Training"
   ]
  },
  {
   "cell_type": "code",
   "execution_count": null,
   "id": "59277966-0680-496b-8900-732d96b859c1",
   "metadata": {},
   "outputs": [],
   "source": [
    "model = pipeline.fit(training)"
   ]
  },
  {
   "cell_type": "markdown",
   "id": "7f75d67a-a3e7-4863-8cde-b98b1fc127cb",
   "metadata": {},
   "source": [
    "## Saving"
   ]
  },
  {
   "cell_type": "code",
   "execution_count": null,
   "id": "35e90390-66f7-4334-8112-b742e0dc5db8",
   "metadata": {},
   "outputs": [],
   "source": [
    "model.save(F\"{MODEL_PATH}{datetime.now()}.model\")"
   ]
  },
  {
   "cell_type": "markdown",
   "id": "177dcf02-e47f-46d6-a3b4-f857531fca57",
   "metadata": {},
   "source": [
    "## END"
   ]
  },
  {
   "cell_type": "code",
   "execution_count": null,
   "id": "fab73d54-256f-444f-8b30-e4919e93b6c6",
   "metadata": {},
   "outputs": [],
   "source": [
    "spark.stop()\n",
    "context.stop()"
   ]
  },
  {
   "cell_type": "code",
   "execution_count": null,
   "id": "c68bbc4c-62d5-467f-b2f7-6122a6fd1744",
   "metadata": {},
   "outputs": [],
   "source": []
  }
 ],
 "metadata": {
  "kernelspec": {
   "display_name": "Python 3 (ipykernel)",
   "language": "python",
   "name": "python3"
  },
  "language_info": {
   "codemirror_mode": {
    "name": "ipython",
    "version": 3
   },
   "file_extension": ".py",
   "mimetype": "text/x-python",
   "name": "python",
   "nbconvert_exporter": "python",
   "pygments_lexer": "ipython3",
   "version": "3.10.7"
  },
  "vscode": {
   "interpreter": {
    "hash": "ed51b0d4d802ee6bae50f5ea08abdf9a7a07ae976ce5019e7e29aaee23a066c8"
   }
  }
 },
 "nbformat": 4,
 "nbformat_minor": 5
}
