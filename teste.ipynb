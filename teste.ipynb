{
 "cells": [
  {
   "cell_type": "code",
   "execution_count": 1,
   "id": "82bbc767-43e8-47be-b4cd-bf8bbb7c73b0",
   "metadata": {},
   "outputs": [
    {
     "name": "stdout",
     "output_type": "stream",
     "text": [
      "Defaulting to user installation because normal site-packages is not writeable\n",
      "Requirement already satisfied: numpy in /home/rcleydsonr/.local/lib/python3.8/site-packages (from -r requirements.txt (line 1)) (1.23.2)\n",
      "Requirement already satisfied: pyspark==3.2.1 in /home/rcleydsonr/.local/lib/python3.8/site-packages (from -r requirements.txt (line 2)) (3.2.1)\n",
      "Requirement already satisfied: kafka-python in /home/rcleydsonr/.local/lib/python3.8/site-packages (from -r requirements.txt (line 3)) (2.0.2)\n",
      "Requirement already satisfied: tweepy in /home/rcleydsonr/.local/lib/python3.8/site-packages (from -r requirements.txt (line 4)) (4.10.1)\n",
      "Requirement already satisfied: py4j==0.10.9.3 in /home/rcleydsonr/.local/lib/python3.8/site-packages (from pyspark==3.2.1->-r requirements.txt (line 2)) (0.10.9.3)\n",
      "Requirement already satisfied: requests-oauthlib<2,>=1.2.0 in /home/rcleydsonr/.local/lib/python3.8/site-packages (from tweepy->-r requirements.txt (line 4)) (1.3.1)\n",
      "Requirement already satisfied: requests<3,>=2.27.0 in /home/rcleydsonr/.local/lib/python3.8/site-packages (from tweepy->-r requirements.txt (line 4)) (2.28.1)\n",
      "Requirement already satisfied: oauthlib<4,>=3.2.0 in /home/rcleydsonr/.local/lib/python3.8/site-packages (from tweepy->-r requirements.txt (line 4)) (3.2.1)\n",
      "Requirement already satisfied: certifi>=2017.4.17 in /usr/lib/python3/dist-packages (from requests<3,>=2.27.0->tweepy->-r requirements.txt (line 4)) (2019.11.28)\n",
      "Requirement already satisfied: charset-normalizer<3,>=2 in /home/rcleydsonr/.local/lib/python3.8/site-packages (from requests<3,>=2.27.0->tweepy->-r requirements.txt (line 4)) (2.1.1)\n",
      "Requirement already satisfied: idna<4,>=2.5 in /usr/lib/python3/dist-packages (from requests<3,>=2.27.0->tweepy->-r requirements.txt (line 4)) (2.8)\n",
      "Requirement already satisfied: urllib3<1.27,>=1.21.1 in /usr/lib/python3/dist-packages (from requests<3,>=2.27.0->tweepy->-r requirements.txt (line 4)) (1.25.8)\n",
      "Note: you may need to restart the kernel to use updated packages.\n"
     ]
    }
   ],
   "source": [
    "pip install -r requirements.txt"
   ]
  },
  {
   "cell_type": "code",
   "execution_count": 2,
   "id": "4987b1fb",
   "metadata": {},
   "outputs": [],
   "source": [
    "from pyspark import SparkConf, SparkContext\n",
    "from pyspark.sql import SparkSession\n",
    "from pyspark.sql.functions import length, explode, split, substring, upper, window, format_string, col, lit"
   ]
  },
  {
   "cell_type": "code",
   "execution_count": 3,
   "id": "473085c0-1297-47c1-a9cd-5d2865070485",
   "metadata": {},
   "outputs": [],
   "source": [
    "INTERVAL = '3 seconds'\n",
    "SPARK_MASTER = \"spark://localhost:5000\" if True else \"local[2]\"\n",
    "SPARK_APP_NAME = \"Final - PSPD\"\n",
    "KAFKA_SERVER = 'localhost:9092'\n",
    "WORDS_TOPIC = 'wc'\n",
    "STATS_TOPIC = 'test-elasticsearch-sink'"
   ]
  },
  {
   "cell_type": "code",
   "execution_count": 4,
   "id": "f0550fa9-43ff-4ded-abba-da8a6f9ae938",
   "metadata": {},
   "outputs": [
    {
     "name": "stderr",
     "output_type": "stream",
     "text": [
      "WARNING: An illegal reflective access operation has occurred\n",
      "WARNING: Illegal reflective access by org.apache.spark.unsafe.Platform (file:/home/rcleydsonr/spark-3.2.2-bin-hadoop3.2/jars/spark-unsafe_2.12-3.2.2.jar) to constructor java.nio.DirectByteBuffer(long,int)\n",
      "WARNING: Please consider reporting this to the maintainers of org.apache.spark.unsafe.Platform\n",
      "WARNING: Use --illegal-access=warn to enable warnings of further illegal reflective access operations\n",
      "WARNING: All illegal access operations will be denied in a future release\n"
     ]
    },
    {
     "name": "stdout",
     "output_type": "stream",
     "text": [
      ":: loading settings :: url = jar:file:/home/rcleydsonr/spark-3.2.2-bin-hadoop3.2/jars/ivy-2.5.0.jar!/org/apache/ivy/core/settings/ivysettings.xml\n"
     ]
    },
    {
     "name": "stderr",
     "output_type": "stream",
     "text": [
      "Ivy Default Cache set to: /home/rcleydsonr/.ivy2/cache\n",
      "The jars for the packages stored in: /home/rcleydsonr/.ivy2/jars\n",
      "org.apache.spark#spark-sql-kafka-0-10_2.12 added as a dependency\n",
      ":: resolving dependencies :: org.apache.spark#spark-submit-parent-7f044886-9c26-45d2-9443-e696fc69b4b3;1.0\n",
      "\tconfs: [default]\n",
      "\tfound org.apache.spark#spark-sql-kafka-0-10_2.12;3.2.0 in central\n",
      "\tfound org.apache.spark#spark-token-provider-kafka-0-10_2.12;3.2.0 in central\n",
      "\tfound org.apache.kafka#kafka-clients;2.8.0 in central\n",
      "\tfound org.lz4#lz4-java;1.7.1 in central\n",
      "\tfound org.xerial.snappy#snappy-java;1.1.8.4 in central\n",
      "\tfound org.slf4j#slf4j-api;1.7.30 in central\n",
      "\tfound org.apache.hadoop#hadoop-client-runtime;3.3.1 in central\n",
      "\tfound org.spark-project.spark#unused;1.0.0 in central\n",
      "\tfound org.apache.hadoop#hadoop-client-api;3.3.1 in central\n",
      "\tfound org.apache.htrace#htrace-core4;4.1.0-incubating in central\n",
      "\tfound commons-logging#commons-logging;1.1.3 in central\n",
      "\tfound com.google.code.findbugs#jsr305;3.0.0 in central\n",
      "\tfound org.apache.commons#commons-pool2;2.6.2 in central\n",
      ":: resolution report :: resolve 690ms :: artifacts dl 20ms\n",
      "\t:: modules in use:\n",
      "\tcom.google.code.findbugs#jsr305;3.0.0 from central in [default]\n",
      "\tcommons-logging#commons-logging;1.1.3 from central in [default]\n",
      "\torg.apache.commons#commons-pool2;2.6.2 from central in [default]\n",
      "\torg.apache.hadoop#hadoop-client-api;3.3.1 from central in [default]\n",
      "\torg.apache.hadoop#hadoop-client-runtime;3.3.1 from central in [default]\n",
      "\torg.apache.htrace#htrace-core4;4.1.0-incubating from central in [default]\n",
      "\torg.apache.kafka#kafka-clients;2.8.0 from central in [default]\n",
      "\torg.apache.spark#spark-sql-kafka-0-10_2.12;3.2.0 from central in [default]\n",
      "\torg.apache.spark#spark-token-provider-kafka-0-10_2.12;3.2.0 from central in [default]\n",
      "\torg.lz4#lz4-java;1.7.1 from central in [default]\n",
      "\torg.slf4j#slf4j-api;1.7.30 from central in [default]\n",
      "\torg.spark-project.spark#unused;1.0.0 from central in [default]\n",
      "\torg.xerial.snappy#snappy-java;1.1.8.4 from central in [default]\n",
      "\t---------------------------------------------------------------------\n",
      "\t|                  |            modules            ||   artifacts   |\n",
      "\t|       conf       | number| search|dwnlded|evicted|| number|dwnlded|\n",
      "\t---------------------------------------------------------------------\n",
      "\t|      default     |   13  |   0   |   0   |   0   ||   13  |   0   |\n",
      "\t---------------------------------------------------------------------\n",
      ":: retrieving :: org.apache.spark#spark-submit-parent-7f044886-9c26-45d2-9443-e696fc69b4b3\n",
      "\tconfs: [default]\n",
      "\t0 artifacts copied, 13 already retrieved (0kB/14ms)\n",
      "22/09/17 22:40:07 WARN NativeCodeLoader: Unable to load native-hadoop library for your platform... using builtin-java classes where applicable\n",
      "Using Spark's default log4j profile: org/apache/spark/log4j-defaults.properties\n",
      "Setting default log level to \"WARN\".\n",
      "To adjust logging level use sc.setLogLevel(newLevel). For SparkR, use setLogLevel(newLevel).\n"
     ]
    }
   ],
   "source": [
    "conf = SparkConf() \\\n",
    "    .setMaster(SPARK_MASTER) \\\n",
    "    .setAppName(SPARK_APP_NAME) \\\n",
    "    .set(\"spark.jars.packages\", \"org.apache.spark:spark-sql-kafka-0-10_2.12:3.2.0\")\n",
    "    \n",
    "context = SparkContext(conf=conf)\n",
    "context.setLogLevel(\"ERROR\")"
   ]
  },
  {
   "cell_type": "code",
   "execution_count": 5,
   "id": "8b2334b0",
   "metadata": {},
   "outputs": [],
   "source": [
    "spark = SparkSession.builder.getOrCreate()"
   ]
  },
  {
   "cell_type": "code",
   "execution_count": 6,
   "id": "2f9f9853-aecf-449d-a03e-e4a64629801d",
   "metadata": {},
   "outputs": [],
   "source": [
    "lines = spark \\\n",
    "    .readStream \\\n",
    "    .format(\"kafka\") \\\n",
    "    .option(\"kafka.bootstrap.servers\", KAFKA_SERVER) \\\n",
    "    .option(\"subscribe\", WORDS_TOPIC) \\\n",
    "    .option('includeTimestamp', 'true') \\\n",
    "    .load()"
   ]
  },
  {
   "cell_type": "code",
   "execution_count": 7,
   "id": "4ad73dc8-8e4a-4f08-98e0-3a0dcb5dbc9a",
   "metadata": {},
   "outputs": [],
   "source": [
    "# Split the lines into words\n",
    "words = lines.select(\n",
    "    explode(\n",
    "        split(lines.value, \"\\s+\")).alias(\"word\"),\n",
    "        lines.timestamp\n",
    "    )\n",
    "words = words.select(upper(words.word).alias('word'), words.timestamp)"
   ]
  },
  {
   "cell_type": "code",
   "execution_count": 11,
   "id": "379f9eec",
   "metadata": {},
   "outputs": [],
   "source": [
    "wordCounts = words.withWatermark(\"timestamp\", INTERVAL) \\\n",
    "                .groupBy(\n",
    "                    window(words.timestamp, INTERVAL, INTERVAL),\n",
    "                    \"word\"\n",
    "                ) \\\n",
    "                .count() \\\n",
    "                .select(\n",
    "                    lit('1').alias(\"key\"),\n",
    "                    format_string(\"{\\\"word\\\": \\\"%s\\\", \\\"count\\\": %d}\", col(\"word\"), col(\"count\")).alias(\"value\")\n",
    "                )"
   ]
  },
  {
   "cell_type": "markdown",
   "id": "d6b1bf37-3475-4cca-b28a-d825061824bf",
   "metadata": {
    "tags": []
   },
   "source": [
    "# Sinks"
   ]
  },
  {
   "cell_type": "code",
   "execution_count": 12,
   "id": "73d99f9d",
   "metadata": {
    "scrolled": true
   },
   "outputs": [],
   "source": [
    "qWc = wordCounts \\\n",
    "    .writeStream \\\n",
    "    .outputMode(\"update\") \\\n",
    "    .format(\"kafka\") \\\n",
    "    .option(\"kafka.bootstrap.servers\", KAFKA_SERVER) \\\n",
    "    .option('topic', STATS_TOPIC) \\\n",
    "    .option('checkpointLocation', '/tmp/spark/wc-stats') \\\n",
    "    .trigger(processingTime=INTERVAL) \\\n",
    "    .start()"
   ]
  },
  {
   "cell_type": "markdown",
   "id": "e31cddb5",
   "metadata": {
    "tags": []
   },
   "source": [
    "# Others"
   ]
  },
  {
   "cell_type": "code",
   "execution_count": 13,
   "id": "390710ce",
   "metadata": {},
   "outputs": [],
   "source": [
    "# Count the words that has length 6, 8 and 11\n",
    "lengths = words \\\n",
    "    .filter(length(words.word).isin([6, 8, 11])) \\\n",
    "    .withWatermark(\"timestamp\", INTERVAL) \\\n",
    "    .groupBy(\n",
    "        window(words.timestamp, INTERVAL, INTERVAL),\n",
    "        length(words.word).alias(\"length\")\n",
    "    ) \\\n",
    "    .count() \\\n",
    "    .select(\n",
    "            lit('1').alias(\"key\"),\n",
    "            format_string(\"{\\\"stat\\\": \\\"%s\\\", \\\"count\\\": %d}\", col(\"length\"), col(\"count\")).alias(\"value\")\n",
    "        )"
   ]
  },
  {
   "cell_type": "code",
   "execution_count": 14,
   "id": "e3d91daf",
   "metadata": {},
   "outputs": [],
   "source": [
    "qLen = lengths \\\n",
    "    .writeStream \\\n",
    "    .outputMode(\"update\") \\\n",
    "    .format(\"kafka\") \\\n",
    "    .option(\"kafka.bootstrap.servers\", KAFKA_SERVER) \\\n",
    "    .option('topic', STATS_TOPIC) \\\n",
    "    .option('checkpointLocation', '/tmp/spark/len-stats') \\\n",
    "    .trigger(processingTime=INTERVAL) \\\n",
    "    .start()"
   ]
  },
  {
   "cell_type": "code",
   "execution_count": 15,
   "id": "8d853cb6-671a-4846-80b1-31708f14f242",
   "metadata": {},
   "outputs": [],
   "source": [
    "# Count the words that startswith S, P and R\n",
    "letters = words \\\n",
    "    .filter(upper(substring(words.word, 0, 1)).isin([\"S\", \"P\", \"R\"])) \\\n",
    "    .withWatermark(\"timestamp\", INTERVAL) \\\n",
    "    .groupBy(\n",
    "        window(words.timestamp, INTERVAL, INTERVAL),\n",
    "        upper(substring(words.word, 0, 1)).alias(\"stat\"),\n",
    "    ) \\\n",
    "    .count() \\\n",
    "    .select(\n",
    "            lit('1').alias(\"key\"),\n",
    "            format_string(\"{\\\"stat\\\": \\\"%s\\\", \\\"count\\\": %d}\", col(\"stat\"), col(\"count\")).alias(\"value\")\n",
    "        )"
   ]
  },
  {
   "cell_type": "code",
   "execution_count": 16,
   "id": "e7fa798e",
   "metadata": {},
   "outputs": [],
   "source": [
    "qLet = letters \\\n",
    "    .writeStream \\\n",
    "    .outputMode(\"update\") \\\n",
    "    .format(\"kafka\") \\\n",
    "    .option(\"kafka.bootstrap.servers\", KAFKA_SERVER) \\\n",
    "    .option('topic', STATS_TOPIC) \\\n",
    "    .option('checkpointLocation', '/tmp/spark/let-stats') \\\n",
    "    .trigger(processingTime=INTERVAL) \\\n",
    "    .start()"
   ]
  },
  {
   "cell_type": "code",
   "execution_count": 17,
   "id": "c0e22eb8-d4ba-4ff4-836c-c0410ab6b940",
   "metadata": {},
   "outputs": [],
   "source": [
    "# Count the total of words readed\n",
    "total = words \\\n",
    "    .groupBy() \\\n",
    "    .count() \\\n",
    "    .select(\n",
    "            lit('1').alias(\"key\"),\n",
    "            format_string(\"{\\\"stat\\\": \\\"total\\\", \\\"count\\\": %d}\", col(\"count\")).alias(\"value\")\n",
    "        )"
   ]
  },
  {
   "cell_type": "code",
   "execution_count": 18,
   "id": "d0e839bd-8f9a-4604-a55c-86580667d079",
   "metadata": {},
   "outputs": [
    {
     "name": "stderr",
     "output_type": "stream",
     "text": [
      "                                                                                \r"
     ]
    }
   ],
   "source": [
    "qT = total \\\n",
    "    .writeStream \\\n",
    "    .outputMode(\"complete\") \\\n",
    "    .format(\"kafka\") \\\n",
    "    .option(\"kafka.bootstrap.servers\", KAFKA_SERVER) \\\n",
    "    .option('topic', STATS_TOPIC) \\\n",
    "    .option('checkpointLocation', '/tmp/spark/total-stats') \\\n",
    "    .start()"
   ]
  },
  {
   "cell_type": "code",
   "execution_count": null,
   "id": "906f3d37-3a23-4ca2-a388-936511a978cf",
   "metadata": {},
   "outputs": [],
   "source": [
    "qWc.stop()\n",
    "qT.stop()\n",
    "qLen.stop()\n",
    "qLet.stop()"
   ]
  },
  {
   "cell_type": "code",
   "execution_count": null,
   "id": "6699c086",
   "metadata": {},
   "outputs": [],
   "source": [
    "spark.stop()\n",
    "context.stop()"
   ]
  }
 ],
 "metadata": {
  "kernelspec": {
   "display_name": "Python 3 (ipykernel)",
   "language": "python",
   "name": "python3"
  },
  "language_info": {
   "codemirror_mode": {
    "name": "ipython",
    "version": 3
   },
   "file_extension": ".py",
   "mimetype": "text/x-python",
   "name": "python",
   "nbconvert_exporter": "python",
   "pygments_lexer": "ipython3",
   "version": "3.8.10"
  }
 },
 "nbformat": 4,
 "nbformat_minor": 5
}
