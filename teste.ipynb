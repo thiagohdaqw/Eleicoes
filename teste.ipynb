{
 "cells": [
  {
   "cell_type": "code",
   "execution_count": null,
   "id": "82bbc767-43e8-47be-b4cd-bf8bbb7c73b0",
   "metadata": {},
   "outputs": [],
   "source": [
    "pip install -r requirements.txt"
   ]
  },
  {
   "cell_type": "code",
   "execution_count": null,
   "id": "4987b1fb",
   "metadata": {},
   "outputs": [],
   "source": [
    "from pyspark import SparkConf, SparkContext\n",
    "from pyspark.sql import SparkSession\n",
    "from pyspark.sql.functions import length, explode, split, substring, upper, window, format_string, col, lit"
   ]
  },
  {
   "cell_type": "code",
   "execution_count": null,
   "id": "473085c0-1297-47c1-a9cd-5d2865070485",
   "metadata": {},
   "outputs": [],
   "source": [
    "INTERVAL = '3 seconds'\n",
    "SPARK_MASTER = \"spark://localhost:5000\" if True else \"local[2]\"\n",
    "SPARK_APP_NAME = \"Final - PSPD\"\n",
    "KAFKA_SERVER = 'localhost:9092'\n",
    "WORDS_TOPIC = 'wc'\n",
    "STATS_TOPIC = 'test-elasticsearch-sink'"
   ]
  },
  {
   "cell_type": "code",
   "execution_count": null,
   "id": "f0550fa9-43ff-4ded-abba-da8a6f9ae938",
   "metadata": {},
   "outputs": [],
   "source": [
    "conf = SparkConf() \\\n",
    "    .setMaster(SPARK_MASTER) \\\n",
    "    .setAppName(SPARK_APP_NAME) \\\n",
    "    .set(\"spark.jars.packages\", \"org.apache.spark:spark-sql-kafka-0-10_2.12:3.2.0\")\n",
    "    \n",
    "context = SparkContext(conf=conf)\n",
    "context.setLogLevel(\"ERROR\")"
   ]
  },
  {
   "cell_type": "code",
   "execution_count": null,
   "id": "8b2334b0",
   "metadata": {},
   "outputs": [],
   "source": [
    "spark = SparkSession.builder.getOrCreate()"
   ]
  },
  {
   "cell_type": "code",
   "execution_count": null,
   "id": "2f9f9853-aecf-449d-a03e-e4a64629801d",
   "metadata": {},
   "outputs": [],
   "source": [
    "lines = spark \\\n",
    "    .readStream \\\n",
    "    .format(\"kafka\") \\\n",
    "    .option(\"kafka.bootstrap.servers\", KAFKA_SERVER) \\\n",
    "    .option(\"subscribe\", WORDS_TOPIC) \\\n",
    "    .option('includeTimestamp', 'true') \\\n",
    "    .load()"
   ]
  },
  {
   "cell_type": "code",
   "execution_count": null,
   "id": "4ad73dc8-8e4a-4f08-98e0-3a0dcb5dbc9a",
   "metadata": {},
   "outputs": [],
   "source": [
    "# Split the lines into words\n",
    "words = lines.select(\n",
    "    explode(\n",
    "        split(lines.value, \"\\s+\")).alias(\"word\"),\n",
    "        lines.timestamp\n",
    "    )\n",
    "words = words.select(upper(words.word).alias('word'), words.timestamp)"
   ]
  },
  {
   "cell_type": "code",
   "execution_count": null,
   "id": "379f9eec",
   "metadata": {},
   "outputs": [],
   "source": [
    "wordCounts = words.withWatermark(\"timestamp\", INTERVAL) \\\n",
    "                .groupBy(\n",
    "                    window(words.timestamp, INTERVAL, INTERVAL),\n",
    "                    \"word\"\n",
    "                ) \\\n",
    "                .count()"
   ]
  },
  {
   "cell_type": "code",
   "execution_count": null,
   "id": "26157443-1e63-4013-81cc-1d54425dee75",
   "metadata": {},
   "outputs": [],
   "source": [
    "allWords = wordCounts \\\n",
    "        .select(\n",
    "            lit('1').alias(\"key\"),\n",
    "            format_string(\"{\\\"word\\\": \\\"%s\\\", \\\"count\\\": %d}\", col(\"word\"), col(\"count\")).alias(\"value\")\n",
    "        )"
   ]
  },
  {
   "cell_type": "markdown",
   "id": "d6b1bf37-3475-4cca-b28a-d825061824bf",
   "metadata": {
    "tags": []
   },
   "source": [
    "# Sinks"
   ]
  },
  {
   "cell_type": "code",
   "execution_count": null,
   "id": "73d99f9d",
   "metadata": {
    "scrolled": true
   },
   "outputs": [],
   "source": [
    "qAllWords = allWords \\\n",
    "    .writeStream \\\n",
    "    .outputMode(\"update\") \\\n",
    "    .format(\"kafka\") \\\n",
    "    .option(\"kafka.bootstrap.servers\", KAFKA_SERVER) \\\n",
    "    .option('topic', STATS_TOPIC) \\\n",
    "    .option('checkpointLocation', '/tmp/spark/wc-stats') \\\n",
    "    .trigger(processingTime=INTERVAL) \\\n",
    "    .start()"
   ]
  },
  {
   "cell_type": "code",
   "execution_count": null,
   "id": "38479f0c-7da7-4faa-8aba-f7917bdae366",
   "metadata": {},
   "outputs": [],
   "source": [
    "spark.stop()\n",
    "context.stop()"
   ]
  },
  {
   "cell_type": "markdown",
   "id": "e31cddb5",
   "metadata": {
    "tags": []
   },
   "source": [
    "# Others"
   ]
  },
  {
   "cell_type": "code",
   "execution_count": null,
   "id": "390710ce",
   "metadata": {},
   "outputs": [],
   "source": [
    "# Count the words that has length 6, 8 and 11\n",
    "lengths = words \\\n",
    "    .filter(length(words.word).isin([6, 8, 11])) \\\n",
    "    .withWatermark(\"timestamp\", INTERVAL) \\\n",
    "    .groupBy(\n",
    "        window(words.timestamp, INTERVAL, INTERVAL),\n",
    "        length(words.word).alias(\"stat\")\n",
    "    ) \\\n",
    "    .count() \\\n",
    "    .select(\n",
    "            lit('1').alias(\"stat\"),\n",
    "            format_string(\"{\\\"stat\\\": \\\"%d\\\", \\\"count\\\": %d}\", col(\"stat\"), col(\"count\")).alias(\"value\")\n",
    "        )"
   ]
  },
  {
   "cell_type": "code",
   "execution_count": null,
   "id": "e3d91daf",
   "metadata": {},
   "outputs": [],
   "source": [
    "qLen = lengths \\\n",
    "    .writeStream \\\n",
    "    .outputMode(\"update\") \\\n",
    "    .format(\"kafka\") \\\n",
    "    .option(\"kafka.bootstrap.servers\", KAFKA_SERVER) \\\n",
    "    .option('topic', STATS_TOPIC) \\\n",
    "    .option('checkpointLocation', '/tmp/spark/len-stats') \\\n",
    "    .trigger(processingTime=INTERVAL) \\\n",
    "    .start()"
   ]
  },
  {
   "cell_type": "code",
   "execution_count": null,
   "id": "8d853cb6-671a-4846-80b1-31708f14f242",
   "metadata": {},
   "outputs": [],
   "source": [
    "# Count the words that startswith S, P and R\n",
    "letters = words \\\n",
    "    .filter(upper(substring(words.word, 0, 1)).isin([\"S\", \"P\", \"R\"])) \\\n",
    "    .withWatermark(\"timestamp\", INTERVAL) \\\n",
    "    .groupBy(\n",
    "        window(words.timestamp, INTERVAL, INTERVAL),\n",
    "        upper(substring(words.word, 0, 1)).alias(\"stat\"),\n",
    "    ) \\\n",
    "    .count() \\\n",
    "    .select(\n",
    "            lit('1').alias(\"stat\"),\n",
    "            format_string(\"{\\\"stat\\\": \\\"%s\\\", \\\"count\\\": %d}\", col(\"stat\"), col(\"count\")).alias(\"value\")\n",
    "        )"
   ]
  },
  {
   "cell_type": "code",
   "execution_count": null,
   "id": "e7fa798e",
   "metadata": {},
   "outputs": [],
   "source": [
    "qLet = letters \\\n",
    "    .writeStream \\\n",
    "    .outputMode(\"update\") \\\n",
    "    .format(\"kafka\") \\\n",
    "    .option(\"kafka.bootstrap.servers\", KAFKA_SERVER) \\\n",
    "    .option('topic', STATS_TOPIC) \\\n",
    "    .option('checkpointLocation', '/tmp/spark/let-stats') \\\n",
    "    .trigger(processingTime=INTERVAL) \\\n",
    "    .start()"
   ]
  },
  {
   "cell_type": "code",
   "execution_count": null,
   "id": "c0e22eb8-d4ba-4ff4-836c-c0410ab6b940",
   "metadata": {},
   "outputs": [],
   "source": [
    "# Group words\n",
    "wordCounts = words.groupBy(\"word\").count()\n",
    "\n",
    "# Count the total of words readed\n",
    "total = words \\\n",
    "    .groupBy() \\\n",
    "    .count() \\\n",
    "    .selectExpr(\"'TOTAL' as key\", \"CAST(count AS STRING) as value\")"
   ]
  },
  {
   "cell_type": "code",
   "execution_count": null,
   "id": "d0e839bd-8f9a-4604-a55c-86580667d079",
   "metadata": {},
   "outputs": [],
   "source": [
    "qT = total \\\n",
    "    .writeStream \\\n",
    "    .outputMode(\"complete\") \\\n",
    "    .format(\"kafka\") \\\n",
    "    .option(\"kafka.bootstrap.servers\", KAFKA_SERVER) \\\n",
    "    .option('topic', STATS_TOPIC) \\\n",
    "    .option('checkpointLocation', '/tmp/spark/total-stats') \\\n",
    "    .start()"
   ]
  },
  {
   "cell_type": "code",
   "execution_count": null,
   "id": "906f3d37-3a23-4ca2-a388-936511a978cf",
   "metadata": {},
   "outputs": [],
   "source": [
    "qAllWords.stop()\n",
    "qT.stop()\n",
    "qLen.stop()\n",
    "qLet.stop()"
   ]
  }
 ],
 "metadata": {
  "kernelspec": {
   "display_name": "Python 3 (ipykernel)",
   "language": "python",
   "name": "python3"
  },
  "language_info": {
   "codemirror_mode": {
    "name": "ipython",
    "version": 3
   },
   "file_extension": ".py",
   "mimetype": "text/x-python",
   "name": "python",
   "nbconvert_exporter": "python",
   "pygments_lexer": "ipython3",
   "version": "3.8.10"
  }
 },
 "nbformat": 4,
 "nbformat_minor": 5
}
